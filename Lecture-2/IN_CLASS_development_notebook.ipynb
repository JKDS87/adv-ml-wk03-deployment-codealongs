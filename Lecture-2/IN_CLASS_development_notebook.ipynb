{
 "cells": [
  {
   "cell_type": "markdown",
   "metadata": {},
   "source": [
    "# Lecture 2 Development Notebook for Serving Models in Streamlit"
   ]
  },
  {
   "cell_type": "code",
   "execution_count": null,
   "metadata": {},
   "outputs": [],
   "source": [
    "## Imports\n",
    "import joblib\n",
    "from lime.lime_tabular import LimeTabularExplainer"
   ]
  },
  {
   "cell_type": "markdown",
   "metadata": {},
   "source": [
    "## Setting Filepath (If not provided)"
   ]
  },
  {
   "cell_type": "code",
   "execution_count": null,
   "metadata": {},
   "outputs": [],
   "source": [
    "from pprint import pprint\n",
    "\n",
    "FPATHS = dict(\n",
    "    demo_data={\n",
    "        \"raw\": {\n",
    "            \"full\": \"Data/loan_approval.csv\"\n",
    "        },\n",
    "        \"ml\": {\n",
    "            \"train\": \"Data/train.joblib\",  \n",
    "            \"test\": \"Data/test.joblib\", \n",
    "        },\n",
    "        \"nlp\": {\n",
    "            \"nlp_full\": \"data/nlp/nlp_full.csv\"} # raw movie review data \n",
    "            \n",
    "    },\n",
    "    demo_models={\n",
    "        \"linear_regression\": \"models/logreg_pipe.joblib\", \n",
    "        \"random_forest\": \"models/rf_pipe.joblib\", \n",
    "    },\n",
    "    demo_images={\n",
    "        \"banner\": \"Images/money_tree.png\", \n",
    "    },\n",
    ")\n",
    "pprint(FPATHS)\n"
   ]
  },
  {
   "cell_type": "code",
   "execution_count": null,
   "metadata": {},
   "outputs": [],
   "source": [
    "# save this file path in config folder to use it for deployment\n",
    "\n",
    "import os, json\n",
    "os.makedirs('config/', exist_ok=True)\n",
    "FPATHS_FILE = 'config/filepaths.json'\n",
    "with open(FPATHS_FILE, 'w') as f:\n",
    "    json.dump(FPATHS, f)\n",
    "\n"
   ]
  },
  {
   "cell_type": "code",
   "execution_count": null,
   "metadata": {},
   "outputs": [],
   "source": [
    "# using custom function create the dictionaries using this path\n",
    "\n",
    "# first need to import autorelaod function \n",
    "%load_ext autoreload\n",
    "%autoreload 2\n",
    "import function as fn"
   ]
  },
  {
   "cell_type": "markdown",
   "metadata": {},
   "source": [
    "We need to append the absolute filepath of the folder that contains our module. (the folder up one level \"../\")"
   ]
  },
  {
   "cell_type": "code",
   "execution_count": null,
   "metadata": {},
   "outputs": [],
   "source": [
    "# Add the Module to the Python Path\n",
    "\n",
    "import sys, os\n",
    "# Check sys.path for python path\n",
    "sys.path"
   ]
  },
  {
   "cell_type": "code",
   "execution_count": null,
   "metadata": {},
   "outputs": [],
   "source": [
    "# Get the absolute file path of parent directory\n",
    "os.path.abspath('../')"
   ]
  },
  {
   "cell_type": "code",
   "execution_count": null,
   "metadata": {},
   "outputs": [],
   "source": [
    "# Add parent directory to python path\n",
    "sys.path.append( os.path.abspath('../'))\n",
    "sys.path[-1]"
   ]
  },
  {
   "cell_type": "code",
   "execution_count": null,
   "metadata": {},
   "outputs": [],
   "source": [
    "\n",
    "# Try importing again\n",
    "import functions as fn"
   ]
  },
  {
   "cell_type": "code",
   "execution_count": null,
   "metadata": {},
   "outputs": [],
   "source": [
    "fn.create_directories_from_paths(FPATHS)"
   ]
  },
  {
   "cell_type": "code",
   "execution_count": null,
   "metadata": {},
   "outputs": [],
   "source": [
    "# Lets checck fpath\n",
    "\n",
    "with open('config/filepaths.json', 'r') as f:\n",
    "    path = json.load(f)"
   ]
  },
  {
   "cell_type": "code",
   "execution_count": null,
   "metadata": {},
   "outputs": [],
   "source": [
    "path.keys()"
   ]
  },
  {
   "cell_type": "code",
   "execution_count": null,
   "metadata": {},
   "outputs": [],
   "source": [
    "path['demo_data']"
   ]
  },
  {
   "cell_type": "code",
   "execution_count": null,
   "metadata": {},
   "outputs": [],
   "source": [
    "path['demo_data']['nlp']"
   ]
  },
  {
   "cell_type": "markdown",
   "metadata": {},
   "source": [
    "## Using the filepath alaready set "
   ]
  },
  {
   "cell_type": "code",
   "execution_count": null,
   "metadata": {},
   "outputs": [],
   "source": [
    "## Open "
   ]
  },
  {
   "cell_type": "code",
   "execution_count": null,
   "metadata": {},
   "outputs": [],
   "source": [
    "## Import pathlib file\n",
    "pathlib = joblib.load('pathlib.joblib')\n",
    "pathlib"
   ]
  },
  {
   "cell_type": "code",
   "execution_count": null,
   "metadata": {},
   "outputs": [],
   "source": [
    "# def load_data(pathlib) to load data from pathlib file\n",
    "def load_data(pathlib):\n",
    "    train_path = pathlib['data']['train']\n",
    "    X_train, y_train =  joblib.load(train_path)\n",
    "    test_path = pathlib['data']['test']\n",
    "    X_test, y_test = joblib.load(test_path)\n",
    "    return X_train, y_train, X_test, y_test\n",
    "\n",
    "X_train, y_train, X_test, y_test = load_data(pathlib)\n",
    "X_train.head()"
   ]
  },
  {
   "cell_type": "code",
   "execution_count": null,
   "metadata": {},
   "outputs": [],
   "source": [
    "# def load_model(pathlib) from pathlib file\n",
    "def load_model(pathlib, model_name='RF'):\n",
    "    model_path = pathlib['models'][model_name]\n",
    "    model = joblib.load(model_path)\n",
    "    return model\n",
    "\n",
    "## test load_model function\n",
    "\n",
    "model_names = ['RF','logreg']\n",
    "\n",
    "for model in model_names:\n",
    "    print(model)\n",
    "    model = load_model(pathlib, model_name=model)\n",
    "    display(model)"
   ]
  },
  {
   "cell_type": "code",
   "execution_count": null,
   "metadata": {},
   "outputs": [],
   "source": [
    "## def get_explainer()\n",
    "def get_explainer(_model_pipe, X_train, labels):\n",
    "    X_train_sc = _model_pipe[0].transform(X_train)\n",
    "    feature_names = _model_pipe[0].get_feature_names_out()\n",
    "    explainer = LimeTabularExplainer(\n",
    "                    X_train_sc,\n",
    "                    mode='classification',\n",
    "                    feature_names=feature_names,\n",
    "                    class_names=labels,\n",
    "                    random_state=42\n",
    "                    )\n",
    "    return explainer\n",
    "\n",
    "## test get_explainer()\n",
    "explainer = get_explainer(model, X_train, labels=None)\n",
    "explainer"
   ]
  },
  {
   "cell_type": "code",
   "execution_count": null,
   "metadata": {},
   "outputs": [],
   "source": [
    "## def explain_instance()\n",
    "def explain_instance(_explainer, _model_pipe, instance_to_explain):\n",
    "    instance_to_explain_sc = _model_pipe[0].transform(instance_to_explain)\n",
    "    explanation = _explainer.explain_instance(instance_to_explain_sc[0],\n",
    "                                             _model_pipe[-1].predict_proba\n",
    "                                             )\n",
    "    return explanation\n",
    "\n",
    "## test explain_instance()\n",
    "explanation = explain_instance(explainer, model, X_test.head(1))\n",
    "display(explanation)\n",
    "explanation.as_pyplot_figure();"
   ]
  },
  {
   "cell_type": "code",
   "execution_count": null,
   "metadata": {},
   "outputs": [],
   "source": []
  },
  {
   "cell_type": "code",
   "execution_count": null,
   "metadata": {},
   "outputs": [],
   "source": []
  }
 ],
 "metadata": {
  "kernelspec": {
   "display_name": "Python (dojo-env)",
   "language": "python",
   "name": "dojo-env"
  },
  "language_info": {
   "codemirror_mode": {
    "name": "ipython",
    "version": 3
   },
   "file_extension": ".py",
   "mimetype": "text/x-python",
   "name": "python",
   "nbconvert_exporter": "python",
   "pygments_lexer": "ipython3",
   "version": "3.10.10"
  }
 },
 "nbformat": 4,
 "nbformat_minor": 4
}
